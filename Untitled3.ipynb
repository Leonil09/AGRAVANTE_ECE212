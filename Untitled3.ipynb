{
 "cells": [
  {
   "cell_type": "markdown",
   "metadata": {},
   "source": [
    "# Module 1"
   ]
  },
  {
   "cell_type": "markdown",
   "metadata": {},
   "source": [
    "Lesson 1 : Introduction\tto\tPython"
   ]
  },
  {
   "cell_type": "markdown",
   "metadata": {},
   "source": [
    "Python\tis\tan\texample\tof\ta highlevel\tlanguage;\tother\thigh-level\tlanguages you\tmight\thave\theard\tof\tare\tC++, PHP,\tand\tJava. there\tare\talso low-level\tlanguages,\tsometimes\treferred\tto\tas\tmachine\tlanguages\tor\tassembly\tlanguages.\tLoosely\tspeaking, computers\t can\t only\texecute\t programs\twritten\tin\tlow-level\tlanguages.\tThus,\t programs written\tin\t a\t high-level\tlanguage\t have\t to\t be\t processed\t before\t they\t can\t run."
   ]
  },
  {
   "cell_type": "markdown",
   "metadata": {},
   "source": [
    "Advantages in using hig-level languages\n",
    "\n",
    "       -it is much easier to program in a high-level language\n",
    "   \n",
    "       -take less time to write, they are shorter and easier to read, and they are more likely to be correct.\n",
    "   \n",
    "       -high-level languages are portable,meaning that they can run on different kinds of computers with few or no modifications.\n",
    "\n",
    "The only disadvantage in using a high-level language is that it takes some time to process."
   ]
  },
  {
   "cell_type": "markdown",
   "metadata": {},
   "source": [
    "Two\t kinds\t of\t programs\t process\t high-level\t languages\t into\t low-level\t\n",
    "languages:interpreters and compilers\n",
    "      \n",
    "      - An interpreter reads a high-level program  and executes it, meaning that it does what th program says. \n",
    "      - A compiler reads the program and translate it completely before the program starts running.\n",
    "    "
   ]
  },
  {
   "cell_type": "code",
   "execution_count": null,
   "metadata": {},
   "outputs": [],
   "source": []
  }
 ],
 "metadata": {
  "kernelspec": {
   "display_name": "Python 3",
   "language": "python",
   "name": "python3"
  },
  "language_info": {
   "codemirror_mode": {
    "name": "ipython",
    "version": 3
   },
   "file_extension": ".py",
   "mimetype": "text/x-python",
   "name": "python",
   "nbconvert_exporter": "python",
   "pygments_lexer": "ipython3",
   "version": "3.7.9"
  }
 },
 "nbformat": 4,
 "nbformat_minor": 4
}
